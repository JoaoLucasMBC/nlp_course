{
 "cells": [
  {
   "cell_type": "markdown",
   "metadata": {},
   "source": [
    "# Modelling sequences with RNNs\n",
    "\n",
    "When we go from sequences of word embeddings to a document-wise vector representation that can be classified, we have to somehow summarize a sequence of vectors into a single vector. So far, what we have been doing is:\n",
    "\n",
    "1. Get one embedding $e \\in \\mathbb{R}^{l \\times d}$ per token, where  $l$ is the sequence length and $d$ is the embedding dimension. This generates the embedding matrix $E \\in \\mathbb{R}^{b \\times l \\times d}$, where $b$ is the batch size.\n",
    "2. Calculate the timewise mean of $E$, generating $X \\in \\mathbb{R}^{b \\times d}$\n",
    "3. Proceed to classification with our logist regression.\n",
    "\n",
    "This is something like this:"
   ]
  },
  {
   "cell_type": "markdown",
   "metadata": {},
   "source": [
    "```mermaid\n",
    "graph LR;\n",
    "\n",
    "    subgraph Embedding;\n",
    "    D([\"Embeddings ($$E \\in \\mathbb{R}^{b \\times l \\times d}$$)\"])\n",
    "    end;\n",
    "\n",
    "    subgraph Summarization;\n",
    "    D --> E[\"Mean over time\"] --> F([\"Embeddings ($$X \\in \\mathbb{R}^{b \\times d}$$)\"])\n",
    "    end;\n",
    "\n",
    "    subgraph Classification;\n",
    "    F --> G[\"Logistic Regression\"] --> H([\"$$P(C_i=c_j | X_i)$$\"])\n",
    "    end;\n",
    "```"
   ]
  },
  {
   "cell_type": "markdown",
   "metadata": {},
   "source": [
    "The problem with this idea is that the calculation of the mean totally disregards the order of the words - essentially, we are doing a glorified bag-of-words modelling, which seems non-ideal. When we do so, we are We could find some other way to summarize our sequence of words so that we somehow account for the order of words.\n",
    "\n",
    "## Recurrent Neural Networks\n",
    "\n",
    "Recurrent Neural Networks (RNNs) were diffusely invented by many small contributions during the 1950s to the 1970s. The underlying idea is to begin with a simple logistic regression that receives as input the first time step of $E$, and yields a single prediction $y_0$: "
   ]
  },
  {
   "cell_type": "markdown",
   "metadata": {},
   "source": [
    "```mermaid\n",
    "graph LR;\n",
    "    F([\"Embeddings ($$E \\in \\mathbb{R}^{b \\times l \\times d}$$)\"]) -->\n",
    "    FF([\"$$x_e = E_{[0,:,:]}$$\"])\n",
    "    FF --> G[\"Logistic Regression\"] --> H([$$y_0$$])\n",
    "```"
   ]
  },
  {
   "cell_type": "markdown",
   "metadata": {},
   "source": [
    "In the next prediction, we concatenate the input at step $1$ with the output at the step $0$, that is, we use $x_e = [E_{[1,:,:]}, y_0]$ and get another prediction $y_1$. Then we keep doing this for all time steps $t \\in [0, l-1]$. The network starts looking like this:"
   ]
  },
  {
   "cell_type": "markdown",
   "metadata": {},
   "source": [
    "```mermaid\n",
    "graph LR;\n",
    "    F([\"Embeddings ($$E \\in \\mathbb{R}^{b \\times l \\times d}$$)\"])\n",
    "    FF([\"$$x_e = [E_{[t,:,:]}, y_{t-1}]$$\"])\n",
    "\n",
    "    F-->FF\n",
    "    FF --> G[\"Logistic Regression\"] \n",
    "\n",
    "    G --> H([$$y_t$$])\n",
    "\n",
    "    H -- \"Feedback loop\" --> FF\n",
    "```"
   ]
  },
  {
   "cell_type": "markdown",
   "metadata": {},
   "source": [
    "Now, remember that logistic regression works by using $y=\\sigma(z)$, where $z = xw^t+b$. We can change the non-linear function for this purpose - usually, the applied function is $\\tanh(z)$. The hyperbolic tangent $\\tanh$ can be calculated by:\n",
    "\n",
    "$$\n",
    "\\tanh(z) = 2\\sigma(z)-1.\n",
    "$$\n",
    "\n",
    "The advantage of $\\tanh$ is that it can assume negative values, which can be useful for optimization. However, when we use $\\tanh$ instead of $\\sigma$, we no longer have a logistic regression. Instead, we have a linear layer followed by a non-linear function, that is:\n"
   ]
  },
  {
   "cell_type": "markdown",
   "metadata": {},
   "source": [
    "```mermaid\n",
    "graph LR;\n",
    "    F([\"Embeddings ($$E \\in \\mathbb{R}^{b \\times l \\times d}$$)\"])\n",
    "    FF([\"$$x_e = [E_{[t,:,:]}, y_{t-1}]$$\"])\n",
    "\n",
    "    F-->FF\n",
    "    FF --> G[\"$$\\tanh(xw^T+b)$$\"] \n",
    "\n",
    "    G --> H([$$y_t$$])\n",
    "\n",
    "    H -- \"Feedback loop\" --> FF\n",
    "```"
   ]
  },
  {
   "cell_type": "markdown",
   "metadata": {},
   "source": [
    "\n",
    "\n",
    "The output $y$ is often called \"hidden state\" and referred to as $h$. This is a reference to the fact that this output is usually a part of a larger classifier, and is hidden because it is an intermediate result of the network (similarly to the intermediate results in a deep MLP).\n",
    "\n",
    "\n",
    "\n",
    "Typically, RNNs are used to summarize sequences by propagating the last output, that is, our summarization of a sequence of \n",
    " elements is simply $X=y_l$.\n",
    "\n",
    "Now, note that we have no restriction as to what the dimension of $y$ should be. We could choose to yield, for example, $y_t$ with 50 dimensions, or 500 dimensions. This choice would simply imply in greater dimensions for $x$ and more degrees of freedom in the logistic regression. If this dimension is $d_e$, then $X \\in \\mathbb{R}^{b \\times d_e}.$\n",
    "\n",
    "Hence, our classifier now works like this:"
   ]
  },
  {
   "cell_type": "markdown",
   "metadata": {},
   "source": [
    "```mermaid\n",
    "graph LR;\n",
    "\n",
    "    subgraph Embedding;\n",
    "    D([\"Embeddings ($$E \\in \\mathbb{R}^{b \\times l \\times d}$$)\"])\n",
    "    end;\n",
    "\n",
    "    subgraph Summarization;\n",
    "    D-->FF([\"$$x_e = [E_{[t,:,:]}, y_{t-1}]$$\"])\n",
    "\n",
    "    FF --> GF[\"$$\\tanh(xw^T+b)$$\"] \n",
    "\n",
    "    GF --> HF([$$y_t$$])\n",
    "\n",
    "    HF -- \"Feedback loop\" --> FF\n",
    "    HF -- \"Last\n",
    "    State\" --> F([\"Embeddings ($$X \\in \\mathbb{R}^{b \\times d_h}$$)\"])\n",
    "    end;\n",
    "\n",
    "    subgraph Classification;\n",
    "    F --> G[\"Logistic Regression\"] --> H([\"$$P(C_i=c_j | X_i)$$\"])\n",
    "    end;\n",
    "```"
   ]
  },
  {
   "cell_type": "markdown",
   "metadata": {},
   "source": [
    "The Pytorch implementation of RNN is simply a layer like:\n",
    "\n",
    "    rnnlayer = nn.RNN(input_size, hidden_size)\n",
    "\n",
    "We could change our network from the last lesson to:"
   ]
  },
  {
   "cell_type": "code",
   "execution_count": 1,
   "metadata": {},
   "outputs": [
    {
     "name": "stdout",
     "output_type": "stream",
     "text": [
      "ClassifierWithRNN(\n",
      "  (embedding): Embedding(5000, 30, padding_idx=3)\n",
      "  (rnnlayer): RNN(30, 20, batch_first=True)\n",
      "  (clf): Linear(in_features=20, out_features=1, bias=True)\n",
      ")\n"
     ]
    }
   ],
   "source": [
    "import torch.nn.functional as F\n",
    "import torch\n",
    "import torch.nn as nn\n",
    "\n",
    "vocab_size = 5000\n",
    "padding_idx = 3\n",
    "hidden_dim = 20 # this is dh\n",
    "embedding_dim = 30 # this is d\n",
    "\n",
    "class ClassifierWithRNN(nn.Module):\n",
    "    def __init__(self, vocab_size, hidden_dim, embedding_dim):\n",
    "        super().__init__()\n",
    "        self.embedding = nn.Embedding(\n",
    "            num_embeddings=vocab_size,\n",
    "            embedding_dim=embedding_dim,\n",
    "            padding_idx=padding_idx\n",
    "        )\n",
    "        self.rnnlayer = nn.RNN(embedding_dim, hidden_dim, batch_first=True)\n",
    "        self.clf = nn.Linear(hidden_dim, 1)\n",
    "    \n",
    "    def forward(self, x):\n",
    "        x = self.embedding(x)\n",
    "        h, _ = self.rnnlayer(x)\n",
    "        x = h[:,-1,:]\n",
    "        x = self.clf(x)\n",
    "        return x\n",
    "\n",
    "model = ClassifierWithRNN(vocab_size, hidden_dim, embedding_dim)\n",
    "print(model)"
   ]
  },
  {
   "cell_type": "markdown",
   "metadata": {},
   "source": [
    "## Exercise: What happens to embeddings during training?\n",
    "\n",
    "We will now put everything to use and make some scientific experiments. Feel free to work in groups.\n",
    "\n",
    "The question is: **what happens to embeddings while we train our network**?\n",
    "\n",
    "Follow the steps below to find out.\n",
    "\n",
    "1. Add a method in `ClassifierWithRNN` that receives a token sequence as input (similarly to forward) but returns the result of the summarization.\n",
    "2. Download the FakeNewsNet dataset from Kagglehub (code is below)\n",
    "3. Make a `ClassifierWithRNN` with a hidden dimension of $2$. \n",
    "4. Calculate document-level embeddings for the elements of the dataset *before* training and show them in a scatter plot. Use colors to represent the classes of each item.\n",
    "5. Train your classifier.\n",
    "6. Calculate document-level embeddings for the elements of the dataset *after* training and show them in a scatter plot. Use colors to represent the classes of each item.\n",
    "\n",
    "What could you observe? Why do you think that is happening?\n",
    "\n",
    "Now, do it again using the summarization based on mean. What do you observe? Why is that happening?"
   ]
  },
  {
   "cell_type": "code",
   "execution_count": 2,
   "metadata": {},
   "outputs": [
    {
     "name": "stdout",
     "output_type": "stream",
     "text": [
      "FakeNewsNet\n",
      "Warning: Looks like you're using an outdated `kagglehub` version (installed: 0.3.7), please consider upgrading to the latest version (0.3.10).\n",
      "Downloading from https://www.kaggle.com/api/v1/datasets/download/algord/fake-news?dataset_version_number=1...\n"
     ]
    },
    {
     "name": "stderr",
     "output_type": "stream",
     "text": [
      "100%|██████████| 1.68M/1.68M [00:00<00:00, 2.03MB/s]"
     ]
    },
    {
     "name": "stdout",
     "output_type": "stream",
     "text": [
      "Extracting files...\n",
      "Path to dataset files: /home/joaolucasmbc/.cache/kagglehub/datasets/algord/fake-news/versions/1\n",
      "Files in dataset path: ['FakeNewsNet.csv']\n"
     ]
    },
    {
     "name": "stderr",
     "output_type": "stream",
     "text": [
      "\n"
     ]
    }
   ],
   "source": [
    "import kagglehub\n",
    "import os\n",
    "\n",
    "print(\"FakeNewsNet\")\n",
    "fnnpath = kagglehub.dataset_download(\"algord/fake-news\")\n",
    "print(\"Path to dataset files:\", fnnpteath)\n",
    "files = os.listdir(fnnpath)\n",
    "print(\"Files in dataset path:\", files)"
   ]
  },
  {
   "cell_type": "code",
   "execution_count": 43,
   "metadata": {},
   "outputs": [],
   "source": [
    "# Start with this pre-trained tokenizer, so you dont have to train your own:\n",
    "import sentencepiece as spm\n",
    "sp = spm.SentencePieceProcessor()\n",
    "sp.load('fakenews_tokenizer.model')\n",
    "padding_idx = sp.piece_to_id('<PAD>')\n",
    "\n",
    "def pad_to_len(sequences, pad_idx, max_len):\n",
    "    padded = []\n",
    "    for s in sequences:\n",
    "        if len(s) >= max_len:\n",
    "            padded.append(s[:max_len])\n",
    "        else:\n",
    "            padded.append(s + [pad_idx] * (max_len - len(s)))\n",
    "    return padded"
   ]
  },
  {
   "cell_type": "code",
   "execution_count": 44,
   "metadata": {},
   "outputs": [],
   "source": [
    "class ClassifierWithRNN(nn.Module):\n",
    "    def __init__(self, vocab_size, hidden_dim, embedding_dim):\n",
    "        super().__init__()\n",
    "        self.embedding = nn.Embedding(\n",
    "            num_embeddings=vocab_size,\n",
    "            embedding_dim=embedding_dim,\n",
    "            padding_idx=padding_idx\n",
    "        )\n",
    "        self.rnnlayer = nn.RNN(embedding_dim, hidden_dim, batch_first=True)\n",
    "        self.clf = nn.Linear(hidden_dim, 1)\n",
    "    \n",
    "    def forward(self, x):\n",
    "        x = self.embedding(x)\n",
    "        h, _ = self.rnnlayer(x)\n",
    "        x = h[:,-1,:]\n",
    "        x = self.clf(x)\n",
    "        return x\n",
    "    \n",
    "    def summarize(self, x):\n",
    "        x = self.embedding(x)\n",
    "        h, _ = self.rnnlayer(x)\n",
    "        return h[:,-1,:]"
   ]
  },
  {
   "cell_type": "code",
   "execution_count": 45,
   "metadata": {},
   "outputs": [
    {
     "name": "stdout",
     "output_type": "stream",
     "text": [
      "ClassifierWithRNN(\n",
      "  (embedding): Embedding(10000, 30, padding_idx=3)\n",
      "  (rnnlayer): RNN(30, 2, batch_first=True)\n",
      "  (clf): Linear(in_features=2, out_features=1, bias=True)\n",
      ")\n"
     ]
    }
   ],
   "source": [
    "model = ClassifierWithRNN(10000, 2, embedding_dim)\n",
    "print(model)"
   ]
  },
  {
   "cell_type": "code",
   "execution_count": 46,
   "metadata": {},
   "outputs": [
    {
     "data": {
      "text/html": [
       "<div>\n",
       "<style scoped>\n",
       "    .dataframe tbody tr th:only-of-type {\n",
       "        vertical-align: middle;\n",
       "    }\n",
       "\n",
       "    .dataframe tbody tr th {\n",
       "        vertical-align: top;\n",
       "    }\n",
       "\n",
       "    .dataframe thead th {\n",
       "        text-align: right;\n",
       "    }\n",
       "</style>\n",
       "<table border=\"1\" class=\"dataframe\">\n",
       "  <thead>\n",
       "    <tr style=\"text-align: right;\">\n",
       "      <th></th>\n",
       "      <th>title</th>\n",
       "      <th>news_url</th>\n",
       "      <th>source_domain</th>\n",
       "      <th>tweet_num</th>\n",
       "      <th>real</th>\n",
       "    </tr>\n",
       "  </thead>\n",
       "  <tbody>\n",
       "    <tr>\n",
       "      <th>0</th>\n",
       "      <td>Kandi Burruss Explodes Over Rape Accusation on...</td>\n",
       "      <td>http://toofab.com/2017/05/08/real-housewives-a...</td>\n",
       "      <td>toofab.com</td>\n",
       "      <td>42</td>\n",
       "      <td>1</td>\n",
       "    </tr>\n",
       "    <tr>\n",
       "      <th>1</th>\n",
       "      <td>People's Choice Awards 2018: The best red carp...</td>\n",
       "      <td>https://www.today.com/style/see-people-s-choic...</td>\n",
       "      <td>www.today.com</td>\n",
       "      <td>0</td>\n",
       "      <td>1</td>\n",
       "    </tr>\n",
       "    <tr>\n",
       "      <th>2</th>\n",
       "      <td>Sophia Bush Sends Sweet Birthday Message to 'O...</td>\n",
       "      <td>https://www.etonline.com/news/220806_sophia_bu...</td>\n",
       "      <td>www.etonline.com</td>\n",
       "      <td>63</td>\n",
       "      <td>1</td>\n",
       "    </tr>\n",
       "    <tr>\n",
       "      <th>3</th>\n",
       "      <td>Colombian singer Maluma sparks rumours of inap...</td>\n",
       "      <td>https://www.dailymail.co.uk/news/article-33655...</td>\n",
       "      <td>www.dailymail.co.uk</td>\n",
       "      <td>20</td>\n",
       "      <td>1</td>\n",
       "    </tr>\n",
       "    <tr>\n",
       "      <th>4</th>\n",
       "      <td>Gossip Girl 10 Years Later: How Upper East Sid...</td>\n",
       "      <td>https://www.zerchoo.com/entertainment/gossip-g...</td>\n",
       "      <td>www.zerchoo.com</td>\n",
       "      <td>38</td>\n",
       "      <td>1</td>\n",
       "    </tr>\n",
       "  </tbody>\n",
       "</table>\n",
       "</div>"
      ],
      "text/plain": [
       "                                               title  \\\n",
       "0  Kandi Burruss Explodes Over Rape Accusation on...   \n",
       "1  People's Choice Awards 2018: The best red carp...   \n",
       "2  Sophia Bush Sends Sweet Birthday Message to 'O...   \n",
       "3  Colombian singer Maluma sparks rumours of inap...   \n",
       "4  Gossip Girl 10 Years Later: How Upper East Sid...   \n",
       "\n",
       "                                            news_url        source_domain  \\\n",
       "0  http://toofab.com/2017/05/08/real-housewives-a...           toofab.com   \n",
       "1  https://www.today.com/style/see-people-s-choic...        www.today.com   \n",
       "2  https://www.etonline.com/news/220806_sophia_bu...     www.etonline.com   \n",
       "3  https://www.dailymail.co.uk/news/article-33655...  www.dailymail.co.uk   \n",
       "4  https://www.zerchoo.com/entertainment/gossip-g...      www.zerchoo.com   \n",
       "\n",
       "   tweet_num  real  \n",
       "0         42     1  \n",
       "1          0     1  \n",
       "2         63     1  \n",
       "3         20     1  \n",
       "4         38     1  "
      ]
     },
     "execution_count": 46,
     "metadata": {},
     "output_type": "execute_result"
    }
   ],
   "source": [
    "# Load dataset\n",
    "import pandas as pd\n",
    "import numpy as np\n",
    "from pathlib import Path\n",
    "\n",
    "df = pd.read_csv(Path(fnnpath) / \"FakeNewsNet.csv\")\n",
    "\n",
    "df.head()"
   ]
  },
  {
   "cell_type": "code",
   "execution_count": 47,
   "metadata": {},
   "outputs": [],
   "source": [
    "df = df[[\"title\", \"real\"]]"
   ]
  },
  {
   "cell_type": "code",
   "execution_count": 48,
   "metadata": {},
   "outputs": [],
   "source": [
    "from sklearn.model_selection import train_test_split\n",
    "\n",
    "X = df[\"title\"]\n",
    "y = df[\"real\"]\n",
    "\n",
    "X_train, X_test, y_train, y_test = train_test_split(X, y, test_size=0.2, random_state=42)"
   ]
  },
  {
   "cell_type": "code",
   "execution_count": 49,
   "metadata": {},
   "outputs": [],
   "source": [
    "tokens = sp.encode_as_ids(list(X))\n",
    "tokens = pad_to_len(tokens, padding_idx, 1000)\n",
    "tokens = torch.tensor(tokens)\n",
    "summarization = model.summarize(tokens)"
   ]
  },
  {
   "cell_type": "code",
   "execution_count": 50,
   "metadata": {},
   "outputs": [
    {
     "data": {
      "text/plain": [
       "tensor([[-0.1890, -0.1031],\n",
       "        [-0.1890, -0.1031],\n",
       "        [-0.1890, -0.1031],\n",
       "        ...,\n",
       "        [-0.1890, -0.1031],\n",
       "        [-0.1890, -0.1031],\n",
       "        [-0.1890, -0.1031]], grad_fn=<SliceBackward0>)"
      ]
     },
     "execution_count": 50,
     "metadata": {},
     "output_type": "execute_result"
    }
   ],
   "source": [
    "summarization"
   ]
  },
  {
   "cell_type": "code",
   "execution_count": 51,
   "metadata": {},
   "outputs": [
    {
     "data": {
      "image/png": "[encoded data removed]",
      "text/plain": [
       "<Figure size 640x480 with 1 Axes>"
      ]
     },
     "metadata": {},
     "output_type": "display_data"
    }
   ],
   "source": [
    "# Plot a scatter plot of the summarization of the titles\n",
    "import matplotlib.pyplot as plt\n",
    "\n",
    "\n",
    "plt.scatter(summarization[:,0].detach().numpy(), summarization[:,1].detach().numpy(), c=y)\n",
    "plt.show()"
   ]
  },
  {
   "cell_type": "code",
   "execution_count": 52,
   "metadata": {},
   "outputs": [],
   "source": [
    "# Transform the dfs in tensors\n",
    "y_train = torch.tensor(y_train.values).float()\n",
    "y_test = torch.tensor(y_test.values).float()"
   ]
  },
  {
   "cell_type": "code",
   "execution_count": 53,
   "metadata": {},
   "outputs": [],
   "source": [
    "X_train = sp.encode_as_ids(list(X_train))\n",
    "X_train = pad_to_len(X_train, padding_idx, 1000)\n",
    "X_train = torch.tensor(X_train)\n",
    "\n",
    "X_test = sp.encode_as_ids(list(X_test))\n",
    "X_test = pad_to_len(X_test, padding_idx, 1000)\n",
    "X_test = torch.tensor(X_test)"
   ]
  },
  {
   "cell_type": "code",
   "execution_count": 56,
   "metadata": {},
   "outputs": [
    {
     "name": "stdout",
     "output_type": "stream",
     "text": [
      "Entering loop\n"
     ]
    },
    {
     "name": "stderr",
     "output_type": "stream",
     "text": [
      "100%|██████████| 200/200 [07:48<00:00,  2.34s/it]\n"
     ]
    }
   ],
   "source": [
    "from tqdm import tqdm\n",
    "\n",
    "# We will also define an optimizer:\n",
    "optimizer = torch.optim.Adam(\n",
    "    model.parameters(), lr=1e0)  # lr is the learning rate - this is our alpha\n",
    "\n",
    "print(\"Entering loop\")\n",
    "# And now, this is the training loop:\n",
    "losses = []\n",
    "model.train()\n",
    "for epoch in tqdm(range(200)):\n",
    "    optimizer.zero_grad()\n",
    "    output = model(X_train)\n",
    "    loss = torch.mean(\n",
    "        torch.binary_cross_entropy_with_logits(\n",
    "            output.flatten().float(),\n",
    "            y_train.flatten().float(),\n",
    "        ), )\n",
    "    loss.backward()\n",
    "    optimizer.step()\n",
    "    losses.append(loss.item())"
   ]
  },
  {
   "cell_type": "code",
   "execution_count": 57,
   "metadata": {},
   "outputs": [
    {
     "data": {
      "image/png": "[encoded data removed]",
      "text/plain": [
       "<Figure size 640x480 with 1 Axes>"
      ]
     },
     "metadata": {},
     "output_type": "display_data"
    }
   ],
   "source": [
    "# plot losses\n",
    "plt.plot(losses)\n",
    "plt.show()  "
   ]
  },
  {
   "cell_type": "code",
   "execution_count": 58,
   "metadata": {},
   "outputs": [
    {
     "data": {
      "image/png": "[encoded data removed]",
      "text/plain": [
       "<Figure size 640x480 with 1 Axes>"
      ]
     },
     "metadata": {},
     "output_type": "display_data"
    }
   ],
   "source": [
    "# Summarize all X values and plot them\n",
    "\n",
    "summarization = model.summarize(tokens)\n",
    "plt.scatter(summarization[:,0].detach().numpy(), summarization[:,1].detach().numpy(), c=y)\n",
    "plt.show()"
   ]
  },
  {
   "cell_type": "code",
   "execution_count": null,
   "metadata": {},
   "outputs": [],
   "source": [
    "# This is my solution. DO NOT LOOK AT IT before trying yours.\n",
    "\n",
    "\n",
    "\n",
    "\n",
    "\n",
    "\n",
    "\n",
    "\n",
    "\n",
    "\n",
    "\n",
    "\n",
    "\n",
    "\n",
    "\n",
    "\n",
    "class ClassifierWithRNN(nn.Module):\n",
    "    def __init__(self, vocab_size, hidden_dim, embedding_dim):\n",
    "        super().__init__()\n",
    "        self.embedding = nn.Embedding(\n",
    "            num_embeddings=vocab_size,\n",
    "            embedding_dim=embedding_dim,\n",
    "            padding_idx=padding_idx\n",
    "        )\n",
    "        self.rnnlayer = nn.RNN(embedding_dim, hidden_dim, batch_first=True, num_layers=1)\n",
    "        self.clf = nn.Linear(hidden_dim, 1)\n",
    "    \n",
    "    def summarize(self, x):\n",
    "        x, _ = self.rnnlayer(x)\n",
    "        x = x[:,-1,:]\n",
    "        return(x)\n",
    "    \n",
    "    def forward(self, x):\n",
    "        x = self.embedding(x)\n",
    "        x = self.summarize(x)\n",
    "        x = self.clf(x)\n",
    "        return x\n",
    "\n",
    "import pandas as pd\n",
    "from pathlib import Path\n",
    "from tqdm import tqdm\n",
    "import torch\n",
    "\n",
    "df = pd.read_csv(Path(fnnpath) / \"FakeNewsNet.csv\")\n",
    "X = df['title']\n",
    "y = torch.tensor(df['real']).float()\n",
    "print(len(X), len(y))\n",
    "tokens = sp.encode_as_ids(list(X))\n",
    "tokens = pad_to_len(tokens, padding_idx, 30)\n",
    "tokens = torch.tensor(tokens)\n",
    "print(tokens.shape, y.shape)\n",
    "model = ClassifierWithRNN(\n",
    "    vocab_size=5000,\n",
    "    hidden_dim=2,\n",
    "    embedding_dim=2,\n",
    ").cpu()\n",
    "\n",
    "model.eval()\n",
    "embeddings_pre = model.summarize(model.embedding(tokens))\n",
    "\n",
    "optimizer = torch.optim.Adam(\n",
    "    model.parameters(), lr=1e-3)  # lr is the learning rate - this is our alpha\n",
    "\n",
    "\n",
    "\n",
    "# And now, this is the training loop:\n",
    "losses = []\n"
   ]
  },
  {
   "cell_type": "code",
   "execution_count": null,
   "metadata": {},
   "outputs": [],
   "source": [
    "model.train()\n",
    "model = model.cuda()\n",
    "tokens = tokens.cuda()\n",
    "y = y.cuda()\n",
    "print(\"Entering loop\")\n",
    "for epoch in tqdm(range(3000)):\n",
    "    optimizer.zero_grad()\n",
    "    output = model(tokens)\n",
    "    loss = torch.mean(\n",
    "        torch.binary_cross_entropy_with_logits(\n",
    "            output.flatten().float(),\n",
    "            y,\n",
    "        ))\n",
    "    loss.backward()\n",
    "    optimizer.step()\n",
    "    losses.append(loss.item())\n",
    "\n",
    "model = model.cpu()\n",
    "tokens = tokens.cpu()\n",
    "y = y.cpu()\n",
    "model.eval()\n",
    "embeddings_post = model.summarize(model.embedding(tokens))"
   ]
  },
  {
   "cell_type": "code",
   "execution_count": null,
   "metadata": {},
   "outputs": [],
   "source": [
    "import matplotlib.pyplot as plt\n",
    "plt.figure(figsize=(3,3))\n",
    "plt.plot(losses)\n",
    "plt.show()"
   ]
  },
  {
   "cell_type": "code",
   "execution_count": null,
   "metadata": {},
   "outputs": [],
   "source": [
    "embeddings_pre.shape"
   ]
  },
  {
   "cell_type": "code",
   "execution_count": null,
   "metadata": {},
   "outputs": [],
   "source": [
    "import matplotlib.pyplot as plt\n",
    "\n",
    "e1 = embeddings_pre.cpu().detach().numpy()\n",
    "#y = y.cpu().detach().numpy()\n",
    "plt.figure(figsize=(6, 3))\n",
    "plt.subplot(1,2,1)\n",
    "plt.scatter(e1[:,0], e1[:,1], c=y, alpha=0.2)\n",
    "plt.title(\"Before training\")\n",
    "plt.subplot(1,2,2)\n",
    "plt.scatter(embeddings_post.detach().cpu().numpy()[:,0], embeddings_post.detach().cpu().numpy()[:,1], c=y, alpha=0.2)\n",
    "plt.title(\"After training\")\n",
    "plt.show()\n"
   ]
  },
  {
   "cell_type": "code",
   "execution_count": null,
   "metadata": {},
   "outputs": [],
   "source": [
    "embeddings_post[0,:]"
   ]
  },
  {
   "cell_type": "code",
   "execution_count": null,
   "metadata": {},
   "outputs": [],
   "source": []
  },
  {
   "cell_type": "code",
   "execution_count": null,
   "metadata": {},
   "outputs": [],
   "source": []
  },
  {
   "cell_type": "markdown",
   "metadata": {},
   "source": [
    "# Summary\n",
    "\n",
    "If everything went well, you should know how to:\n",
    "\n",
    "1. Make a PyTorch model\n",
    "1. Use RNNs to summarize the content of sequences\n",
    "1. Train neural networks with RNNs\n",
    "1. Use the GPU to speed-up training\n",
    "1. Visualize the learning curve and diagnose failures with the learning rate\n",
    "1. Visualize document-level embeddings to check the final state of training"
   ]
  },
  {
   "cell_type": "markdown",
   "metadata": {},
   "source": []
  }
 ],
 "metadata": {
  "kernelspec": {
   "display_name": "nlp_course",
   "language": "python",
   "name": "python3"
  },
  "language_info": {
   "codemirror_mode": {
    "name": "ipython",
    "version": 3
   },
   "file_extension": ".py",
   "mimetype": "text/x-python",
   "name": "python",
   "nbconvert_exporter": "python",
   "pygments_lexer": "ipython3",
   "version": "3.12.8"
  }
 },
 "nbformat": 4,
 "nbformat_minor": 2
}
